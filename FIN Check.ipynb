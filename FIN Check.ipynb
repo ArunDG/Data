{
 "cells": [
  {
   "cell_type": "code",
   "execution_count": 1,
   "metadata": {},
   "outputs": [],
   "source": [
    "# Import pandas library \n",
    "import pandas as pd \n",
    "import numpy as np\n"
   ]
  },
  {
   "cell_type": "code",
   "execution_count": 133,
   "metadata": {},
   "outputs": [],
   "source": [
    "data=[('G3380350N'),('G3380350T')]\n",
    "FIN=pd.DataFrame(data,columns=['FIN'])"
   ]
  },
  {
   "cell_type": "code",
   "execution_count": 159,
   "metadata": {},
   "outputs": [],
   "source": [
    "\n",
    "def fin_chk():\n",
    "    column=['FIN']\n",
    "    for f in column:\n",
    "        FIN['first_char']=FIN[f].str[:1]\n",
    "        FIN['last_char'] =FIN[f].str[-1:]\n",
    "        FIN['NUM']       =FIN[f].str.extract('(\\d+)')\n",
    "        FIN['length']    =FIN['NUM'].apply(len)\n",
    "    \n",
    "        FIN['NUM1']=\\\n",
    "        np.where(FIN['first_char']=='G',(((FIN['NUM'].str[:1].astype(int)*2++FIN['NUM'].str[1:2].astype(int)*7++FIN['NUM'].str[2:3].astype(int)*6)\\\n",
    "            ++(FIN['NUM'].str[3:4].astype(int)*5++FIN['NUM'].str[4:5].astype(int)*4++FIN['NUM'].str[5:6].astype(int)*3)\\\n",
    "            ++FIN['NUM'].str[6:7].astype(int)*2)++4),\\\n",
    "        np.where(FIN['first_char']=='F',((FIN['NUM'].str[:1].astype(int)*2++FIN['NUM'].str[1:2].astype(int)*7++FIN['NUM'].str[2:3].astype(int)*6)\\\n",
    "            ++(FIN['NUM'].str[3:4].astype(int)*5++FIN['NUM'].str[4:5].astype(int)*4++FIN['NUM'].str[5:6].astype(int)*3)\\\n",
    "            ++FIN['NUM'].str[6:7].astype(int)*2),\\\n",
    "            1))\n",
    "        \n",
    "        FIN['RMDR']=11-FIN['NUM1'].mod(11)\n",
    "        \n",
    "        Condlist= [(FIN.RMDR==1),(FIN.RMDR==2),(FIN.RMDR==3),(FIN.RMDR==4),(FIN.RMDR==5),(FIN.RMDR==6),\\\n",
    "          (FIN.RMDR==7),(FIN.RMDR==8),(FIN.RMDR==9),(FIN.RMDR==10),(FIN.RMDR==11)]\n",
    "        \n",
    "        Vlue= ['K','L','M','N','P','Q','R','T','U','W','X']\n",
    "        \n",
    "        FIN['CHK_SUM']=np.select(Condlist,Vlue,default='unknown')\n",
    "        \n",
    "        FIN['CNT']=np.where(((FIN.first_char=='G') | (FIN.first_char=='F')) & (FIN.length==7) & (FIN.last_char==FIN.CHK_SUM),'1','0')\n",
    "        \n",
    "        FIN.drop(['CHK_SUM','RMDR','NUM1','last_char','first_char'],axis=1)\n",
    "        \n",
    "        return FIN\n",
    "        \n",
    "        \n"
   ]
  },
  {
   "cell_type": "code",
   "execution_count": 160,
   "metadata": {},
   "outputs": [
    {
     "data": {
      "text/html": [
       "<div>\n",
       "<style scoped>\n",
       "    .dataframe tbody tr th:only-of-type {\n",
       "        vertical-align: middle;\n",
       "    }\n",
       "\n",
       "    .dataframe tbody tr th {\n",
       "        vertical-align: top;\n",
       "    }\n",
       "\n",
       "    .dataframe thead th {\n",
       "        text-align: right;\n",
       "    }\n",
       "</style>\n",
       "<table border=\"1\" class=\"dataframe\">\n",
       "  <thead>\n",
       "    <tr style=\"text-align: right;\">\n",
       "      <th></th>\n",
       "      <th>FIN</th>\n",
       "      <th>first_char</th>\n",
       "      <th>last_char</th>\n",
       "      <th>NUM</th>\n",
       "      <th>length</th>\n",
       "      <th>NUM1</th>\n",
       "      <th>RMDR</th>\n",
       "      <th>CHK_SUM</th>\n",
       "      <th>CNT</th>\n",
       "    </tr>\n",
       "  </thead>\n",
       "  <tbody>\n",
       "    <tr>\n",
       "      <th>0</th>\n",
       "      <td>G3380350N</td>\n",
       "      <td>G</td>\n",
       "      <td>N</td>\n",
       "      <td>3380350</td>\n",
       "      <td>7</td>\n",
       "      <td>106</td>\n",
       "      <td>4</td>\n",
       "      <td>N</td>\n",
       "      <td>1</td>\n",
       "    </tr>\n",
       "    <tr>\n",
       "      <th>1</th>\n",
       "      <td>G3380350T</td>\n",
       "      <td>G</td>\n",
       "      <td>T</td>\n",
       "      <td>3380350</td>\n",
       "      <td>7</td>\n",
       "      <td>106</td>\n",
       "      <td>4</td>\n",
       "      <td>N</td>\n",
       "      <td>0</td>\n",
       "    </tr>\n",
       "  </tbody>\n",
       "</table>\n",
       "</div>"
      ],
      "text/plain": [
       "         FIN first_char last_char      NUM  length  NUM1  RMDR CHK_SUM CNT\n",
       "0  G3380350N          G         N  3380350       7   106     4       N   1\n",
       "1  G3380350T          G         T  3380350       7   106     4       N   0"
      ]
     },
     "execution_count": 160,
     "metadata": {},
     "output_type": "execute_result"
    }
   ],
   "source": [
    "fin_chk()"
   ]
  },
  {
   "cell_type": "code",
   "execution_count": 158,
   "metadata": {},
   "outputs": [
    {
     "data": {
      "text/html": [
       "<div>\n",
       "<style scoped>\n",
       "    .dataframe tbody tr th:only-of-type {\n",
       "        vertical-align: middle;\n",
       "    }\n",
       "\n",
       "    .dataframe tbody tr th {\n",
       "        vertical-align: top;\n",
       "    }\n",
       "\n",
       "    .dataframe thead th {\n",
       "        text-align: right;\n",
       "    }\n",
       "</style>\n",
       "<table border=\"1\" class=\"dataframe\">\n",
       "  <thead>\n",
       "    <tr style=\"text-align: right;\">\n",
       "      <th></th>\n",
       "      <th>FIN</th>\n",
       "      <th>NUM</th>\n",
       "      <th>length</th>\n",
       "      <th>CNT</th>\n",
       "    </tr>\n",
       "  </thead>\n",
       "  <tbody>\n",
       "    <tr>\n",
       "      <th>0</th>\n",
       "      <td>G3380350N</td>\n",
       "      <td>3380350</td>\n",
       "      <td>7</td>\n",
       "      <td>1</td>\n",
       "    </tr>\n",
       "    <tr>\n",
       "      <th>1</th>\n",
       "      <td>G3380350T</td>\n",
       "      <td>3380350</td>\n",
       "      <td>7</td>\n",
       "      <td>0</td>\n",
       "    </tr>\n",
       "  </tbody>\n",
       "</table>\n",
       "</div>"
      ],
      "text/plain": [
       "         FIN      NUM  length CNT\n",
       "0  G3380350N  3380350       7   1\n",
       "1  G3380350T  3380350       7   0"
      ]
     },
     "execution_count": 158,
     "metadata": {},
     "output_type": "execute_result"
    }
   ],
   "source": [
    "FIN.drop(['CHK_SUM','RMDR','NUM1','last_char','first_char'],axis=1)"
   ]
  },
  {
   "cell_type": "code",
   "execution_count": null,
   "metadata": {},
   "outputs": [],
   "source": []
  }
 ],
 "metadata": {
  "kernelspec": {
   "display_name": "Python 3",
   "language": "python",
   "name": "python3"
  },
  "language_info": {
   "codemirror_mode": {
    "name": "ipython",
    "version": 3
   },
   "file_extension": ".py",
   "mimetype": "text/x-python",
   "name": "python",
   "nbconvert_exporter": "python",
   "pygments_lexer": "ipython3",
   "version": "3.7.1"
  }
 },
 "nbformat": 4,
 "nbformat_minor": 2
}
