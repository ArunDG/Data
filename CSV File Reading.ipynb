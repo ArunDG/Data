{
 "cells": [
  {
   "cell_type": "code",
   "execution_count": 2,
   "metadata": {},
   "outputs": [],
   "source": [
    "import pandas as pd"
   ]
  },
  {
   "cell_type": "code",
   "execution_count": 13,
   "metadata": {},
   "outputs": [],
   "source": [
    "train = pd.read_csv('D:/DataScienceCompetition/FoodDemandPrediction/Train/train.csv',dtype=str,engine='python')"
   ]
  },
  {
   "cell_type": "code",
   "execution_count": 40,
   "metadata": {},
   "outputs": [],
   "source": [
    "train1=train.iloc[[-1],[0,1]]"
   ]
  },
  {
   "cell_type": "code",
   "execution_count": 41,
   "metadata": {
    "scrolled": true
   },
   "outputs": [],
   "source": [
    "train1.columns=['source','trailer_Cnt']\n",
    "train1.index=[1]\n"
   ]
  },
  {
   "cell_type": "code",
   "execution_count": 42,
   "metadata": {},
   "outputs": [
    {
     "data": {
      "text/html": [
       "<div>\n",
       "<style scoped>\n",
       "    .dataframe tbody tr th:only-of-type {\n",
       "        vertical-align: middle;\n",
       "    }\n",
       "\n",
       "    .dataframe tbody tr th {\n",
       "        vertical-align: top;\n",
       "    }\n",
       "\n",
       "    .dataframe thead th {\n",
       "        text-align: right;\n",
       "    }\n",
       "</style>\n",
       "<table border=\"1\" class=\"dataframe\">\n",
       "  <thead>\n",
       "    <tr style=\"text-align: right;\">\n",
       "      <th></th>\n",
       "      <th>source</th>\n",
       "      <th>trailer_Cnt</th>\n",
       "    </tr>\n",
       "  </thead>\n",
       "  <tbody>\n",
       "    <tr>\n",
       "      <th>1</th>\n",
       "      <td>Train</td>\n",
       "      <td>456545</td>\n",
       "    </tr>\n",
       "  </tbody>\n",
       "</table>\n",
       "</div>"
      ],
      "text/plain": [
       "  source trailer_Cnt\n",
       "1  Train      456545"
      ]
     },
     "execution_count": 42,
     "metadata": {},
     "output_type": "execute_result"
    }
   ],
   "source": [
    "train1.head()"
   ]
  },
  {
   "cell_type": "code",
   "execution_count": 27,
   "metadata": {},
   "outputs": [
    {
     "name": "stdout",
     "output_type": "stream",
     "text": [
      "Index(['id', 'week'], dtype='object')\n"
     ]
    }
   ],
   "source": [
    "print(train1.columns)"
   ]
  },
  {
   "cell_type": "code",
   "execution_count": 49,
   "metadata": {},
   "outputs": [
    {
     "name": "stdout",
     "output_type": "stream",
     "text": [
      "456549\n"
     ]
    }
   ],
   "source": [
    "ROW_CNT=len(train)\n",
    "print(ROW_CNT)"
   ]
  },
  {
   "cell_type": "code",
   "execution_count": 54,
   "metadata": {},
   "outputs": [
    {
     "name": "stdout",
     "output_type": "stream",
     "text": [
      "456545\n"
     ]
    }
   ],
   "source": [
    "TRAIL_CNT=train1['trailer_Cnt'].astype(int).values[0]\n",
    "print(TRAIL_CNT)"
   ]
  },
  {
   "cell_type": "code",
   "execution_count": 58,
   "metadata": {},
   "outputs": [
    {
     "name": "stdout",
     "output_type": "stream",
     "text": [
      "Row count is not matching with trailer count, so file not processed further.\n"
     ]
    }
   ],
   "source": [
    "if ROW_CNT==TRAIL_CNT:\n",
    "    train2=train1.astype(\"|S\")\n",
    "else:\n",
    "    print (\"Row count is not matching with trailer count, so file not processed further.\")"
   ]
  },
  {
   "cell_type": "code",
   "execution_count": 59,
   "metadata": {},
   "outputs": [],
   "source": [
    "train2=train.astype(\"|S\")"
   ]
  },
  {
   "cell_type": "code",
   "execution_count": 63,
   "metadata": {},
   "outputs": [
    {
     "name": "stdout",
     "output_type": "stream",
     "text": [
      "<class 'pandas.core.frame.DataFrame'>\n",
      "RangeIndex: 456549 entries, 0 to 456548\n",
      "Data columns (total 9 columns):\n",
      "id                       456549 non-null |S7\n",
      "week                     456549 non-null |S7\n",
      "center_id                456549 non-null |S7\n",
      "meal_id                  456549 non-null |S7\n",
      "checkout_price           456549 non-null |S7\n",
      "base_price               456549 non-null |S7\n",
      "emailer_for_promotion    456549 non-null |S7\n",
      "homepage_featured        456549 non-null |S7\n",
      "num_orders               456549 non-null |S7\n",
      "dtypes: bytes56(9)\n",
      "memory usage: 27.4 MB\n"
     ]
    }
   ],
   "source": [
    "train2.info()"
   ]
  },
  {
   "cell_type": "code",
   "execution_count": 67,
   "metadata": {},
   "outputs": [
    {
     "name": "stdout",
     "output_type": "stream",
     "text": [
      "TRAIL_CNT: 456545\n",
      "ROW_CNT: 456549\n",
      "Row count is not matching with trailer count, so file not processed further.\n"
     ]
    }
   ],
   "source": [
    "def main():\n",
    "    train = pd.read_csv('D:/DataScienceCompetition/FoodDemandPrediction/Train/train.csv',dtype=str,engine='python')\n",
    "    train1=train.iloc[[-1],[0,1]]\n",
    "    train1.columns=['source','trailer_Cnt']\n",
    "    train1.index=[1]\n",
    "    ROW_CNT=len(train)\n",
    "    TRAIL_CNT=train1['trailer_Cnt'].astype(int).values[0]\n",
    "    print('TRAIL_CNT:',TRAIL_CNT)\n",
    "    print('ROW_CNT:',ROW_CNT)\n",
    "    if ROW_CNT==TRAIL_CNT:\n",
    "        train2=train1.astype(\"|S\")\n",
    "    else:\n",
    "        print (\"Row count is not matching with trailer count, so file not processed further.\")\n",
    "\n",
    "if __name__ == '__main__':\n",
    "    main()\n",
    "    "
   ]
  },
  {
   "cell_type": "code",
   "execution_count": null,
   "metadata": {},
   "outputs": [],
   "source": []
  }
 ],
 "metadata": {
  "kernelspec": {
   "display_name": "Python 3",
   "language": "python",
   "name": "python3"
  },
  "language_info": {
   "codemirror_mode": {
    "name": "ipython",
    "version": 3
   },
   "file_extension": ".py",
   "mimetype": "text/x-python",
   "name": "python",
   "nbconvert_exporter": "python",
   "pygments_lexer": "ipython3",
   "version": "3.7.1"
  }
 },
 "nbformat": 4,
 "nbformat_minor": 2
}
