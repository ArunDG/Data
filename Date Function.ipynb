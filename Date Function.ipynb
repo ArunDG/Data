{
 "cells": [
  {
   "cell_type": "code",
   "execution_count": 71,
   "metadata": {},
   "outputs": [
    {
     "name": "stdout",
     "output_type": "stream",
     "text": [
      "     marrdate         dob    dvorcedt         id  Passport  tag\n",
      "0    20030507  2003-05-07  2003-05-07  G3380350N       NaN    0\n",
      "1    20040507  2003-05-07  2003-05-07  G3380350K  L7280848    0\n",
      "2  2003-05-07  2003-05-07  2003-05-07  G3380350L  L7280848    0\n",
      "3  2003-05-07  2003-05-07  2003-05-07        NaN  L7280848    0\n"
     ]
    }
   ],
   "source": [
    "# Import pandas library \n",
    "import pandas as pd \n",
    "import numpy as np\n",
    "from datetime import datetime\n",
    "from datetime import date\n",
    "import numpy as np\n",
    "\n",
    "\n",
    "#Create date and define column\n",
    "\n",
    "data=[('20030507','2003-05-07','2003-05-07','G3380350N',np.nan),\n",
    "     ('20040507','2003-05-07','2003-05-07','G3380350K','L7280848'),\n",
    "     ('2003-05-07','2003-05-07','2003-05-07','G3380350L','L7280848'),\n",
    "     ('2003-05-07','2003-05-07','2003-05-07',np.nan,'L7280848')]\n",
    "\n",
    "df1 = pd.DataFrame(data, columns = ['marrdate','dob','dvorcedt','id','Passport']) \n",
    "df1['tag']=0\n",
    "\n",
    "print(df1)\n",
    "\n",
    "#Create Exception Table\n",
    "column_names = ['marrdate','dob','dvorcedt','id','Passport','DATA_LOAD_DT','Description']\n",
    "\n",
    "excp2 = pd.DataFrame(columns = column_names)"
   ]
  },
  {
   "cell_type": "code",
   "execution_count": 72,
   "metadata": {},
   "outputs": [
    {
     "name": "stderr",
     "output_type": "stream",
     "text": [
      "C:\\Users\\P0500387\\AppData\\Local\\Continuum\\anaconda3\\lib\\site-packages\\ipykernel_launcher.py:13: SettingWithCopyWarning: \n",
      "A value is trying to be set on a copy of a slice from a DataFrame.\n",
      "Try using .loc[row_indexer,col_indexer] = value instead\n",
      "\n",
      "See the caveats in the documentation: http://pandas.pydata.org/pandas-docs/stable/indexing.html#indexing-view-versus-copy\n",
      "  del sys.path[0]\n",
      "C:\\Users\\P0500387\\AppData\\Local\\Continuum\\anaconda3\\lib\\site-packages\\ipykernel_launcher.py:14: SettingWithCopyWarning: \n",
      "A value is trying to be set on a copy of a slice from a DataFrame.\n",
      "Try using .loc[row_indexer,col_indexer] = value instead\n",
      "\n",
      "See the caveats in the documentation: http://pandas.pydata.org/pandas-docs/stable/indexing.html#indexing-view-versus-copy\n",
      "  \n"
     ]
    }
   ],
   "source": [
    "\n",
    "\n",
    "column=['marrdate']\n",
    "j=0\n",
    "for i in column:\n",
    "    \n",
    "    df1['tag']=df1[column[j]].apply(lambda x:  0 if len(x.strip())>6 and (int(x[0:4])>1900 and int(x[0:4])<2050)\n",
    "                                and (int(x[5:6])>0 and int(x[5:6])<13) and (int(x[7:8])>0 and int(x[7:8])<32) else  1 )\n",
    "    \n",
    "    \n",
    "    #extract validation failed records\n",
    "    excp1=df1[df1['tag']==1]\n",
    "    excp1[\"DATA_LOAD_DT\"]=date.today()\n",
    "    excp1[\"Description\"]=\"Invalid Date\"\n",
    "    \n",
    "    \n",
    "   #Append to main exception table\n",
    "    excp2=excp2.append(excp1, ignore_index = False) \n",
    "    j+=1\n"
   ]
  },
  {
   "cell_type": "code",
   "execution_count": 73,
   "metadata": {},
   "outputs": [
    {
     "name": "stdout",
     "output_type": "stream",
     "text": [
      "  DATA_LOAD_DT   Description  Passport         dob    dvorcedt         id  \\\n",
      "2   2020-07-04  Invalid Date  L7280848  2003-05-07  2003-05-07  G3380350L   \n",
      "3   2020-07-04  Invalid Date  L7280848  2003-05-07  2003-05-07        NaN   \n",
      "\n",
      "     marrdate  tag  \n",
      "2  2003-05-07  1.0  \n",
      "3  2003-05-07  1.0  \n"
     ]
    }
   ],
   "source": [
    "print (excp2)"
   ]
  },
  {
   "cell_type": "code",
   "execution_count": 27,
   "metadata": {},
   "outputs": [],
   "source": [
    "df1['tag']=df1['marrdate'].apply(lambda x: int(x[5:6]))"
   ]
  },
  {
   "cell_type": "code",
   "execution_count": 109,
   "metadata": {},
   "outputs": [
    {
     "name": "stdout",
     "output_type": "stream",
     "text": [
      "3\n"
     ]
    }
   ],
   "source": [
    "print (j)"
   ]
  },
  {
   "cell_type": "code",
   "execution_count": 14,
   "metadata": {},
   "outputs": [],
   "source": [
    "df = pd.DataFrame({'x': [1, 2, 3], 'y': [4, 5, 6]})\n",
    "df['w']=2\n",
    "df['w']=df.apply(lambda row: row.w + 2, axis=1)"
   ]
  },
  {
   "cell_type": "code",
   "execution_count": 15,
   "metadata": {},
   "outputs": [
    {
     "name": "stdout",
     "output_type": "stream",
     "text": [
      "   x  y  w\n",
      "0  1  4  4\n",
      "1  2  5  4\n",
      "2  3  6  4\n"
     ]
    }
   ],
   "source": [
    "print(df)"
   ]
  },
  {
   "cell_type": "code",
   "execution_count": 46,
   "metadata": {},
   "outputs": [],
   "source": [
    "column_names = ['marrdate','dob','dvorcedt','DATA_LOAD_DT','Description']\n",
    "\n",
    "excp2 = pd.DataFrame(columns = column_names)"
   ]
  },
  {
   "cell_type": "code",
   "execution_count": 47,
   "metadata": {},
   "outputs": [
    {
     "name": "stdout",
     "output_type": "stream",
     "text": [
      "Empty DataFrame\n",
      "Columns: [marrdate, dob, dvorcedt, DATA_LOAD_DT, Description]\n",
      "Index: []\n"
     ]
    }
   ],
   "source": [
    "print(excp2)"
   ]
  },
  {
   "cell_type": "code",
   "execution_count": 74,
   "metadata": {},
   "outputs": [
    {
     "name": "stderr",
     "output_type": "stream",
     "text": [
      "C:\\Users\\P0500387\\AppData\\Local\\Continuum\\anaconda3\\lib\\site-packages\\ipykernel_launcher.py:11: SettingWithCopyWarning: \n",
      "A value is trying to be set on a copy of a slice from a DataFrame.\n",
      "Try using .loc[row_indexer,col_indexer] = value instead\n",
      "\n",
      "See the caveats in the documentation: http://pandas.pydata.org/pandas-docs/stable/indexing.html#indexing-view-versus-copy\n",
      "  # This is added back by InteractiveShellApp.init_path()\n",
      "C:\\Users\\P0500387\\AppData\\Local\\Continuum\\anaconda3\\lib\\site-packages\\ipykernel_launcher.py:12: SettingWithCopyWarning: \n",
      "A value is trying to be set on a copy of a slice from a DataFrame.\n",
      "Try using .loc[row_indexer,col_indexer] = value instead\n",
      "\n",
      "See the caveats in the documentation: http://pandas.pydata.org/pandas-docs/stable/indexing.html#indexing-view-versus-copy\n",
      "  if sys.path[0] == '':\n"
     ]
    }
   ],
   "source": [
    "# Mandatory check\n",
    "column=['id']\n",
    "j=0\n",
    "for i in column:\n",
    "    cond = (df1[column[j]].isnull())\n",
    "    df1['tag']=np.where(cond,1,0)\n",
    "   \n",
    "    \n",
    "    #extract validation failed records\n",
    "    excp1=df1[df1['tag']==1]\n",
    "    excp1[\"DATA_LOAD_DT\"]=date.today()\n",
    "    excp1[\"Description\"]=\"ID is Missing\"\n",
    "    \n",
    "    #Append to main exception table\n",
    "    excp2=excp2.append(excp1, ignore_index = False) \n",
    "    j+=1\n"
   ]
  },
  {
   "cell_type": "code",
   "execution_count": 76,
   "metadata": {},
   "outputs": [
    {
     "name": "stdout",
     "output_type": "stream",
     "text": [
      "  DATA_LOAD_DT    Description  Passport         dob    dvorcedt         id  \\\n",
      "2   2020-07-04   Invalid Date  L7280848  2003-05-07  2003-05-07  G3380350L   \n",
      "3   2020-07-04   Invalid Date  L7280848  2003-05-07  2003-05-07        NaN   \n",
      "3   2020-07-04  ID is Missing  L7280848  2003-05-07  2003-05-07        NaN   \n",
      "\n",
      "     marrdate  tag  \n",
      "2  2003-05-07  1.0  \n",
      "3  2003-05-07  1.0  \n",
      "3  2003-05-07  1.0  \n"
     ]
    }
   ],
   "source": [
    "print(excp2)"
   ]
  },
  {
   "cell_type": "code",
   "execution_count": null,
   "metadata": {},
   "outputs": [],
   "source": []
  }
 ],
 "metadata": {
  "kernelspec": {
   "display_name": "Python 3",
   "language": "python",
   "name": "python3"
  },
  "language_info": {
   "codemirror_mode": {
    "name": "ipython",
    "version": 3
   },
   "file_extension": ".py",
   "mimetype": "text/x-python",
   "name": "python",
   "nbconvert_exporter": "python",
   "pygments_lexer": "ipython3",
   "version": "3.7.1"
  }
 },
 "nbformat": 4,
 "nbformat_minor": 2
}
